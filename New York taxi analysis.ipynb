{
 "cells": [
  {
   "cell_type": "markdown",
   "id": "c75cbc02",
   "metadata": {},
   "source": [
    "Data set from DataPlayground Maven Analytics\n",
    "\n",
    "What is the average number of trips per week?\n",
    "\n",
    "What is the average distance traveled per trip?\n",
    "\n",
    "Which days of the week and times of the day will be busiest?\n",
    "\n",
    "What are the most popular pick-up and drop-off locations?"
   ]
  },
  {
   "cell_type": "code",
   "execution_count": 2,
   "id": "860a254c",
   "metadata": {},
   "outputs": [],
   "source": [
    "import pandas as pd"
   ]
  },
  {
   "cell_type": "code",
   "execution_count": 3,
   "id": "5473d8ea",
   "metadata": {},
   "outputs": [],
   "source": [
    "df=pd.read_csv('NYC.csv')"
   ]
  },
  {
   "cell_type": "code",
   "execution_count": 4,
   "id": "bf2e759a",
   "metadata": {},
   "outputs": [
    {
     "data": {
      "text/html": [
       "<div>\n",
       "<style scoped>\n",
       "    .dataframe tbody tr th:only-of-type {\n",
       "        vertical-align: middle;\n",
       "    }\n",
       "\n",
       "    .dataframe tbody tr th {\n",
       "        vertical-align: top;\n",
       "    }\n",
       "\n",
       "    .dataframe thead th {\n",
       "        text-align: right;\n",
       "    }\n",
       "</style>\n",
       "<table border=\"1\" class=\"dataframe\">\n",
       "  <thead>\n",
       "    <tr style=\"text-align: right;\">\n",
       "      <th></th>\n",
       "      <th>Unnamed: 0</th>\n",
       "      <th>VendorID</th>\n",
       "      <th>lpep_pickup_datetime</th>\n",
       "      <th>lpep_dropoff_datetime</th>\n",
       "      <th>store_and_fwd_flag</th>\n",
       "      <th>RatecodeID</th>\n",
       "      <th>PULocationID</th>\n",
       "      <th>DOLocationID</th>\n",
       "      <th>passenger_count</th>\n",
       "      <th>trip_distance</th>\n",
       "      <th>fare_amount</th>\n",
       "      <th>extra</th>\n",
       "      <th>mta_tax</th>\n",
       "      <th>tip_amount</th>\n",
       "      <th>tolls_amount</th>\n",
       "      <th>improvement_surcharge</th>\n",
       "      <th>total_amount</th>\n",
       "      <th>payment_type</th>\n",
       "      <th>trip_type</th>\n",
       "      <th>congestion_surcharge</th>\n",
       "    </tr>\n",
       "  </thead>\n",
       "  <tbody>\n",
       "    <tr>\n",
       "      <th>0</th>\n",
       "      <td>0</td>\n",
       "      <td>2</td>\n",
       "      <td>2020-01-01 06:47:28.000</td>\n",
       "      <td>2020-01-01 06:52:54.000</td>\n",
       "      <td>N</td>\n",
       "      <td>1</td>\n",
       "      <td>74</td>\n",
       "      <td>75</td>\n",
       "      <td>1.0</td>\n",
       "      <td>1.47</td>\n",
       "      <td>6.5</td>\n",
       "      <td>0.0</td>\n",
       "      <td>0.5</td>\n",
       "      <td>0.0</td>\n",
       "      <td>0.0</td>\n",
       "      <td>0.3</td>\n",
       "      <td>7.3</td>\n",
       "      <td>2</td>\n",
       "      <td>1</td>\n",
       "      <td>0.0</td>\n",
       "    </tr>\n",
       "    <tr>\n",
       "      <th>1</th>\n",
       "      <td>1</td>\n",
       "      <td>2</td>\n",
       "      <td>2020-01-01 13:25:34.000</td>\n",
       "      <td>2020-01-01 13:30:43.000</td>\n",
       "      <td>N</td>\n",
       "      <td>1</td>\n",
       "      <td>74</td>\n",
       "      <td>75</td>\n",
       "      <td>1.0</td>\n",
       "      <td>1.49</td>\n",
       "      <td>6.5</td>\n",
       "      <td>0.0</td>\n",
       "      <td>0.5</td>\n",
       "      <td>0.0</td>\n",
       "      <td>0.0</td>\n",
       "      <td>0.3</td>\n",
       "      <td>7.3</td>\n",
       "      <td>2</td>\n",
       "      <td>1</td>\n",
       "      <td>0.0</td>\n",
       "    </tr>\n",
       "    <tr>\n",
       "      <th>2</th>\n",
       "      <td>2</td>\n",
       "      <td>2</td>\n",
       "      <td>2020-01-01 14:20:35.000</td>\n",
       "      <td>2020-01-01 14:26:25.000</td>\n",
       "      <td>N</td>\n",
       "      <td>1</td>\n",
       "      <td>74</td>\n",
       "      <td>75</td>\n",
       "      <td>1.0</td>\n",
       "      <td>1.31</td>\n",
       "      <td>6.5</td>\n",
       "      <td>0.0</td>\n",
       "      <td>0.5</td>\n",
       "      <td>0.0</td>\n",
       "      <td>0.0</td>\n",
       "      <td>0.3</td>\n",
       "      <td>7.3</td>\n",
       "      <td>2</td>\n",
       "      <td>1</td>\n",
       "      <td>0.0</td>\n",
       "    </tr>\n",
       "    <tr>\n",
       "      <th>3</th>\n",
       "      <td>3</td>\n",
       "      <td>2</td>\n",
       "      <td>2020-01-02 06:56:47.000</td>\n",
       "      <td>2020-01-02 07:03:03.000</td>\n",
       "      <td>N</td>\n",
       "      <td>1</td>\n",
       "      <td>74</td>\n",
       "      <td>75</td>\n",
       "      <td>1.0</td>\n",
       "      <td>1.43</td>\n",
       "      <td>6.5</td>\n",
       "      <td>0.0</td>\n",
       "      <td>0.5</td>\n",
       "      <td>0.0</td>\n",
       "      <td>0.0</td>\n",
       "      <td>0.3</td>\n",
       "      <td>7.3</td>\n",
       "      <td>2</td>\n",
       "      <td>1</td>\n",
       "      <td>0.0</td>\n",
       "    </tr>\n",
       "    <tr>\n",
       "      <th>4</th>\n",
       "      <td>4</td>\n",
       "      <td>2</td>\n",
       "      <td>2020-01-02 09:34:46.000</td>\n",
       "      <td>2020-01-02 09:41:02.000</td>\n",
       "      <td>N</td>\n",
       "      <td>1</td>\n",
       "      <td>74</td>\n",
       "      <td>75</td>\n",
       "      <td>1.0</td>\n",
       "      <td>1.10</td>\n",
       "      <td>6.5</td>\n",
       "      <td>0.0</td>\n",
       "      <td>0.5</td>\n",
       "      <td>0.0</td>\n",
       "      <td>0.0</td>\n",
       "      <td>0.3</td>\n",
       "      <td>7.3</td>\n",
       "      <td>2</td>\n",
       "      <td>1</td>\n",
       "      <td>0.0</td>\n",
       "    </tr>\n",
       "  </tbody>\n",
       "</table>\n",
       "</div>"
      ],
      "text/plain": [
       "   Unnamed: 0  VendorID     lpep_pickup_datetime    lpep_dropoff_datetime  \\\n",
       "0           0         2  2020-01-01 06:47:28.000  2020-01-01 06:52:54.000   \n",
       "1           1         2  2020-01-01 13:25:34.000  2020-01-01 13:30:43.000   \n",
       "2           2         2  2020-01-01 14:20:35.000  2020-01-01 14:26:25.000   \n",
       "3           3         2  2020-01-02 06:56:47.000  2020-01-02 07:03:03.000   \n",
       "4           4         2  2020-01-02 09:34:46.000  2020-01-02 09:41:02.000   \n",
       "\n",
       "  store_and_fwd_flag  RatecodeID  PULocationID  DOLocationID  passenger_count  \\\n",
       "0                  N           1            74            75              1.0   \n",
       "1                  N           1            74            75              1.0   \n",
       "2                  N           1            74            75              1.0   \n",
       "3                  N           1            74            75              1.0   \n",
       "4                  N           1            74            75              1.0   \n",
       "\n",
       "   trip_distance  fare_amount  extra  mta_tax  tip_amount  tolls_amount  \\\n",
       "0           1.47          6.5    0.0      0.5         0.0           0.0   \n",
       "1           1.49          6.5    0.0      0.5         0.0           0.0   \n",
       "2           1.31          6.5    0.0      0.5         0.0           0.0   \n",
       "3           1.43          6.5    0.0      0.5         0.0           0.0   \n",
       "4           1.10          6.5    0.0      0.5         0.0           0.0   \n",
       "\n",
       "   improvement_surcharge  total_amount  payment_type  trip_type  \\\n",
       "0                    0.3           7.3             2          1   \n",
       "1                    0.3           7.3             2          1   \n",
       "2                    0.3           7.3             2          1   \n",
       "3                    0.3           7.3             2          1   \n",
       "4                    0.3           7.3             2          1   \n",
       "\n",
       "   congestion_surcharge  \n",
       "0                   0.0  \n",
       "1                   0.0  \n",
       "2                   0.0  \n",
       "3                   0.0  \n",
       "4                   0.0  "
      ]
     },
     "execution_count": 4,
     "metadata": {},
     "output_type": "execute_result"
    }
   ],
   "source": [
    "df.head()"
   ]
  },
  {
   "cell_type": "code",
   "execution_count": 5,
   "id": "145de050",
   "metadata": {},
   "outputs": [
    {
     "data": {
      "text/plain": [
       "(28326071, 20)"
      ]
     },
     "execution_count": 5,
     "metadata": {},
     "output_type": "execute_result"
    }
   ],
   "source": [
    "df.shape"
   ]
  },
  {
   "cell_type": "code",
   "execution_count": 6,
   "id": "78e6ea62",
   "metadata": {},
   "outputs": [],
   "source": [
    "df=df.iloc[:,1:]"
   ]
  },
  {
   "cell_type": "code",
   "execution_count": 7,
   "id": "323d39e9",
   "metadata": {},
   "outputs": [
    {
     "name": "stdout",
     "output_type": "stream",
     "text": [
      "<class 'pandas.core.frame.DataFrame'>\n",
      "RangeIndex: 28326071 entries, 0 to 28326070\n",
      "Data columns (total 19 columns):\n",
      " #   Column                 Dtype  \n",
      "---  ------                 -----  \n",
      " 0   VendorID               int64  \n",
      " 1   lpep_pickup_datetime   object \n",
      " 2   lpep_dropoff_datetime  object \n",
      " 3   store_and_fwd_flag     object \n",
      " 4   RatecodeID             int64  \n",
      " 5   PULocationID           int64  \n",
      " 6   DOLocationID           int64  \n",
      " 7   passenger_count        float64\n",
      " 8   trip_distance          float64\n",
      " 9   fare_amount            float64\n",
      " 10  extra                  float64\n",
      " 11  mta_tax                float64\n",
      " 12  tip_amount             float64\n",
      " 13  tolls_amount           float64\n",
      " 14  improvement_surcharge  float64\n",
      " 15  total_amount           float64\n",
      " 16  payment_type           int64  \n",
      " 17  trip_type              int64  \n",
      " 18  congestion_surcharge   float64\n",
      "dtypes: float64(10), int64(6), object(3)\n",
      "memory usage: 4.0+ GB\n"
     ]
    }
   ],
   "source": [
    "df.info()"
   ]
  },
  {
   "cell_type": "code",
   "execution_count": 8,
   "id": "39be8d4c",
   "metadata": {},
   "outputs": [],
   "source": [
    "df['VendorID']=df['VendorID'].astype('str')\n",
    "df['lpep_pickup_datetime']=pd.to_datetime(df['lpep_pickup_datetime'])\n",
    "df['lpep_dropoff_datetime']=pd.to_datetime(df['lpep_dropoff_datetime'])\n",
    "col=['RatecodeID','PULocationID','DOLocationID','trip_type','payment_type']\n",
    "for i in col:\n",
    "    df[i]=df[i].astype('str')\n",
    "df['passender_count']=df['passenger_count'].astype('int')\n"
   ]
  },
  {
   "cell_type": "code",
   "execution_count": 9,
   "id": "02cdf276",
   "metadata": {},
   "outputs": [
    {
     "data": {
      "text/plain": [
       "VendorID                 0\n",
       "lpep_pickup_datetime     0\n",
       "lpep_dropoff_datetime    0\n",
       "store_and_fwd_flag       0\n",
       "RatecodeID               0\n",
       "PULocationID             0\n",
       "DOLocationID             0\n",
       "passenger_count          0\n",
       "trip_distance            0\n",
       "fare_amount              0\n",
       "extra                    0\n",
       "mta_tax                  0\n",
       "tip_amount               0\n",
       "tolls_amount             0\n",
       "improvement_surcharge    2\n",
       "total_amount             0\n",
       "payment_type             0\n",
       "trip_type                0\n",
       "congestion_surcharge     0\n",
       "passender_count          0\n",
       "dtype: int64"
      ]
     },
     "execution_count": 9,
     "metadata": {},
     "output_type": "execute_result"
    }
   ],
   "source": [
    "df.isnull().sum()"
   ]
  },
  {
   "cell_type": "code",
   "execution_count": 10,
   "id": "a9571a11",
   "metadata": {},
   "outputs": [],
   "source": [
    "df['improvement_surcharge'].fillna(df['improvement_surcharge'].mean(),inplace=True)"
   ]
  },
  {
   "cell_type": "code",
   "execution_count": 11,
   "id": "811f6889",
   "metadata": {},
   "outputs": [
    {
     "data": {
      "text/plain": [
       "VendorID                 0\n",
       "lpep_pickup_datetime     0\n",
       "lpep_dropoff_datetime    0\n",
       "store_and_fwd_flag       0\n",
       "RatecodeID               0\n",
       "PULocationID             0\n",
       "DOLocationID             0\n",
       "passenger_count          0\n",
       "trip_distance            0\n",
       "fare_amount              0\n",
       "extra                    0\n",
       "mta_tax                  0\n",
       "tip_amount               0\n",
       "tolls_amount             0\n",
       "improvement_surcharge    0\n",
       "total_amount             0\n",
       "payment_type             0\n",
       "trip_type                0\n",
       "congestion_surcharge     0\n",
       "passender_count          0\n",
       "dtype: int64"
      ]
     },
     "execution_count": 11,
     "metadata": {},
     "output_type": "execute_result"
    }
   ],
   "source": [
    "df.isnull().sum()"
   ]
  },
  {
   "cell_type": "code",
   "execution_count": 12,
   "id": "2689538f",
   "metadata": {},
   "outputs": [],
   "source": [
    "df['day_of_week']=df['lpep_pickup_datetime'].dt.dayofweek"
   ]
  },
  {
   "cell_type": "code",
   "execution_count": 13,
   "id": "64518a54",
   "metadata": {},
   "outputs": [
    {
     "data": {
      "text/plain": [
       "0    2\n",
       "1    2\n",
       "2    2\n",
       "3    3\n",
       "4    3\n",
       "Name: day_of_week, dtype: int64"
      ]
     },
     "execution_count": 13,
     "metadata": {},
     "output_type": "execute_result"
    }
   ],
   "source": [
    "df['day_of_week'].head()"
   ]
  },
  {
   "cell_type": "code",
   "execution_count": 14,
   "id": "f0867f31",
   "metadata": {},
   "outputs": [],
   "source": [
    "df['day_of_week']=df['day_of_week'].map({0:'Monday',1:'Tuesday',2:'Wednersday',3:'Thursday',4:'Friday',5:'Saturday',6:'Sunday'})"
   ]
  },
  {
   "cell_type": "code",
   "execution_count": 15,
   "id": "b4917547",
   "metadata": {},
   "outputs": [
    {
     "data": {
      "text/plain": [
       "0    Wednersday\n",
       "1    Wednersday\n",
       "2    Wednersday\n",
       "3      Thursday\n",
       "4      Thursday\n",
       "Name: day_of_week, dtype: object"
      ]
     },
     "execution_count": 15,
     "metadata": {},
     "output_type": "execute_result"
    }
   ],
   "source": [
    "df['day_of_week'].head()"
   ]
  },
  {
   "cell_type": "markdown",
   "id": "f25d3183",
   "metadata": {},
   "source": [
    "Which days of the week and times of the day will be busiest?"
   ]
  },
  {
   "cell_type": "code",
   "execution_count": 16,
   "id": "d69fea8e",
   "metadata": {},
   "outputs": [],
   "source": [
    "df_days=df.groupby('day_of_week')['day_of_week'].count()"
   ]
  },
  {
   "cell_type": "code",
   "execution_count": 17,
   "id": "3d08fb82",
   "metadata": {},
   "outputs": [
    {
     "data": {
      "text/plain": [
       "day_of_week\n",
       "Monday        3612400\n",
       "Tuesday       3777447\n",
       "Sunday        3798558\n",
       "Wednersday    3951825\n",
       "Thursday      4124322\n",
       "Friday        4522374\n",
       "Saturday      4539145\n",
       "Name: day_of_week, dtype: int64"
      ]
     },
     "execution_count": 17,
     "metadata": {},
     "output_type": "execute_result"
    }
   ],
   "source": [
    "df_days.head(7).sort_values()"
   ]
  },
  {
   "cell_type": "markdown",
   "id": "442ff027",
   "metadata": {},
   "source": [
    "Friday and Saturday seem to be far more busier than other days"
   ]
  },
  {
   "cell_type": "code",
   "execution_count": 18,
   "id": "7c5389e3",
   "metadata": {},
   "outputs": [],
   "source": [
    "df['time_pick_up']=df['lpep_pickup_datetime'].dt.hour"
   ]
  },
  {
   "cell_type": "code",
   "execution_count": 19,
   "id": "f56c27fb",
   "metadata": {},
   "outputs": [],
   "source": [
    "df['time_drop_off']=df['lpep_dropoff_datetime'].dt.hour"
   ]
  },
  {
   "cell_type": "code",
   "execution_count": 20,
   "id": "94c1bf40",
   "metadata": {},
   "outputs": [],
   "source": [
    "df_time=df.groupby('time_pick_up')['time_pick_up'].count()"
   ]
  },
  {
   "cell_type": "code",
   "execution_count": 21,
   "id": "f657a8da",
   "metadata": {},
   "outputs": [
    {
     "data": {
      "text/plain": [
       "time_pick_up\n",
       "0    906316\n",
       "1    674031\n",
       "2    483613\n",
       "3    386057\n",
       "4    340597\n",
       "Name: time_pick_up, dtype: int64"
      ]
     },
     "execution_count": 21,
     "metadata": {},
     "output_type": "execute_result"
    }
   ],
   "source": [
    "df_time.head()"
   ]
  },
  {
   "cell_type": "code",
   "execution_count": 22,
   "id": "357e6904",
   "metadata": {},
   "outputs": [
    {
     "data": {
      "text/plain": [
       "time_pick_up\n",
       "18    1969114\n",
       "17    1868926\n",
       "19    1818826\n",
       "16    1745368\n",
       "15    1633225\n",
       "20    1552654\n",
       "14    1484967\n",
       "21    1424078\n",
       "9     1389697\n",
       "10    1348636\n",
       "12    1346543\n",
       "13    1340992\n",
       "11    1335401\n",
       "22    1295613\n",
       "8     1277422\n",
       "23    1147563\n",
       "0      906316\n",
       "7      858112\n",
       "1      674031\n",
       "2      483613\n",
       "6      433127\n",
       "3      386057\n",
       "4      340597\n",
       "5      265193\n",
       "Name: time_pick_up, dtype: int64"
      ]
     },
     "execution_count": 22,
     "metadata": {},
     "output_type": "execute_result"
    }
   ],
   "source": [
    "df_time.sort_values(ascending=False).head(50)"
   ]
  },
  {
   "cell_type": "markdown",
   "id": "61bf943b",
   "metadata": {},
   "source": [
    "8 in morning to 11 at night seem to be be busy"
   ]
  },
  {
   "cell_type": "markdown",
   "id": "d50c3e84",
   "metadata": {},
   "source": [
    "What is the average distance traveled per trip?"
   ]
  },
  {
   "cell_type": "code",
   "execution_count": 23,
   "id": "8d317103",
   "metadata": {},
   "outputs": [
    {
     "data": {
      "text/plain": [
       "3.866140496152873"
      ]
     },
     "execution_count": 23,
     "metadata": {},
     "output_type": "execute_result"
    }
   ],
   "source": [
    "df['trip_distance'].mean()"
   ]
  },
  {
   "cell_type": "markdown",
   "id": "02dbbc0c",
   "metadata": {},
   "source": [
    "What are the most popular pick-up and drop-off locations?"
   ]
  },
  {
   "cell_type": "markdown",
   "id": "a56a3f45",
   "metadata": {},
   "source": [
    "Pickup locations\n"
   ]
  },
  {
   "cell_type": "code",
   "execution_count": 52,
   "id": "2640f404",
   "metadata": {},
   "outputs": [],
   "source": [
    "df_pick_locations=df.groupby(['PULocationID'])['PULocationID'].count().reset_index(name='Count of Pickup')"
   ]
  },
  {
   "cell_type": "code",
   "execution_count": 53,
   "id": "39bbed1e",
   "metadata": {},
   "outputs": [
    {
     "data": {
      "text/plain": [
       "(262, 2)"
      ]
     },
     "execution_count": 53,
     "metadata": {},
     "output_type": "execute_result"
    }
   ],
   "source": [
    "df_pick_locations.shape"
   ]
  },
  {
   "cell_type": "code",
   "execution_count": 55,
   "id": "dc7d0822",
   "metadata": {},
   "outputs": [],
   "source": [
    "df_pick_locations=df_pick_locations.sort_values(by='Count of Pickup',ascending=False)"
   ]
  },
  {
   "cell_type": "code",
   "execution_count": 57,
   "id": "778867e7",
   "metadata": {},
   "outputs": [
    {
     "data": {
      "text/html": [
       "<div>\n",
       "<style scoped>\n",
       "    .dataframe tbody tr th:only-of-type {\n",
       "        vertical-align: middle;\n",
       "    }\n",
       "\n",
       "    .dataframe tbody tr th {\n",
       "        vertical-align: top;\n",
       "    }\n",
       "\n",
       "    .dataframe thead th {\n",
       "        text-align: right;\n",
       "    }\n",
       "</style>\n",
       "<table border=\"1\" class=\"dataframe\">\n",
       "  <thead>\n",
       "    <tr style=\"text-align: right;\">\n",
       "      <th></th>\n",
       "      <th>PULocationID</th>\n",
       "      <th>Count of Pickup</th>\n",
       "    </tr>\n",
       "  </thead>\n",
       "  <tbody>\n",
       "    <tr>\n",
       "      <th>234</th>\n",
       "      <td>74</td>\n",
       "      <td>1894141</td>\n",
       "    </tr>\n",
       "    <tr>\n",
       "      <th>235</th>\n",
       "      <td>75</td>\n",
       "      <td>1629516</td>\n",
       "    </tr>\n",
       "    <tr>\n",
       "      <th>198</th>\n",
       "      <td>41</td>\n",
       "      <td>1587500</td>\n",
       "    </tr>\n",
       "    <tr>\n",
       "      <th>229</th>\n",
       "      <td>7</td>\n",
       "      <td>1300642</td>\n",
       "    </tr>\n",
       "    <tr>\n",
       "      <th>243</th>\n",
       "      <td>82</td>\n",
       "      <td>1208719</td>\n",
       "    </tr>\n",
       "  </tbody>\n",
       "</table>\n",
       "</div>"
      ],
      "text/plain": [
       "    PULocationID  Count of Pickup\n",
       "234           74          1894141\n",
       "235           75          1629516\n",
       "198           41          1587500\n",
       "229            7          1300642\n",
       "243           82          1208719"
      ]
     },
     "execution_count": 57,
     "metadata": {},
     "output_type": "execute_result"
    }
   ],
   "source": [
    "df_pick_locations.head()"
   ]
  },
  {
   "cell_type": "code",
   "execution_count": 67,
   "id": "e870575d",
   "metadata": {},
   "outputs": [],
   "source": [
    "top_5_pickup_locations=df_pick_locations['PULocationID'].head(5).reset_index(name='LocationID')"
   ]
  },
  {
   "cell_type": "code",
   "execution_count": 71,
   "id": "10db2953",
   "metadata": {},
   "outputs": [
    {
     "data": {
      "text/html": [
       "<div>\n",
       "<style scoped>\n",
       "    .dataframe tbody tr th:only-of-type {\n",
       "        vertical-align: middle;\n",
       "    }\n",
       "\n",
       "    .dataframe tbody tr th {\n",
       "        vertical-align: top;\n",
       "    }\n",
       "\n",
       "    .dataframe thead th {\n",
       "        text-align: right;\n",
       "    }\n",
       "</style>\n",
       "<table border=\"1\" class=\"dataframe\">\n",
       "  <thead>\n",
       "    <tr style=\"text-align: right;\">\n",
       "      <th></th>\n",
       "      <th>index</th>\n",
       "      <th>LocationID</th>\n",
       "    </tr>\n",
       "  </thead>\n",
       "  <tbody>\n",
       "    <tr>\n",
       "      <th>0</th>\n",
       "      <td>234</td>\n",
       "      <td>74</td>\n",
       "    </tr>\n",
       "    <tr>\n",
       "      <th>1</th>\n",
       "      <td>235</td>\n",
       "      <td>75</td>\n",
       "    </tr>\n",
       "    <tr>\n",
       "      <th>2</th>\n",
       "      <td>198</td>\n",
       "      <td>41</td>\n",
       "    </tr>\n",
       "    <tr>\n",
       "      <th>3</th>\n",
       "      <td>229</td>\n",
       "      <td>7</td>\n",
       "    </tr>\n",
       "    <tr>\n",
       "      <th>4</th>\n",
       "      <td>243</td>\n",
       "      <td>82</td>\n",
       "    </tr>\n",
       "  </tbody>\n",
       "</table>\n",
       "</div>"
      ],
      "text/plain": [
       "   index LocationID\n",
       "0    234         74\n",
       "1    235         75\n",
       "2    198         41\n",
       "3    229          7\n",
       "4    243         82"
      ]
     },
     "execution_count": 71,
     "metadata": {},
     "output_type": "execute_result"
    }
   ],
   "source": [
    "top_5_pickup_locations.head()"
   ]
  },
  {
   "cell_type": "code",
   "execution_count": 85,
   "id": "8e95547f",
   "metadata": {},
   "outputs": [
    {
     "name": "stdout",
     "output_type": "stream",
     "text": [
      "<class 'pandas.core.frame.DataFrame'>\n",
      "RangeIndex: 5 entries, 0 to 4\n",
      "Data columns (total 2 columns):\n",
      " #   Column      Non-Null Count  Dtype \n",
      "---  ------      --------------  ----- \n",
      " 0   index       5 non-null      int64 \n",
      " 1   LocationID  5 non-null      object\n",
      "dtypes: int64(1), object(1)\n",
      "memory usage: 208.0+ bytes\n"
     ]
    }
   ],
   "source": [
    "top_5_pickup_locations.info()"
   ]
  },
  {
   "cell_type": "code",
   "execution_count": 86,
   "id": "341dd2ee",
   "metadata": {},
   "outputs": [],
   "source": [
    "top_5_pickup_locations['LocationID']=top_5_pickup_locations['LocationID'].astype('int')"
   ]
  },
  {
   "cell_type": "code",
   "execution_count": 45,
   "id": "2a61f99d",
   "metadata": {},
   "outputs": [],
   "source": [
    "df_locations=pd.read_csv('taxi_zones.csv')"
   ]
  },
  {
   "cell_type": "code",
   "execution_count": 66,
   "id": "f1ba0d2a",
   "metadata": {},
   "outputs": [
    {
     "data": {
      "text/html": [
       "<div>\n",
       "<style scoped>\n",
       "    .dataframe tbody tr th:only-of-type {\n",
       "        vertical-align: middle;\n",
       "    }\n",
       "\n",
       "    .dataframe tbody tr th {\n",
       "        vertical-align: top;\n",
       "    }\n",
       "\n",
       "    .dataframe thead th {\n",
       "        text-align: right;\n",
       "    }\n",
       "</style>\n",
       "<table border=\"1\" class=\"dataframe\">\n",
       "  <thead>\n",
       "    <tr style=\"text-align: right;\">\n",
       "      <th></th>\n",
       "      <th>LocationID</th>\n",
       "      <th>Borough</th>\n",
       "      <th>Zone</th>\n",
       "      <th>service_zone</th>\n",
       "    </tr>\n",
       "  </thead>\n",
       "  <tbody>\n",
       "    <tr>\n",
       "      <th>0</th>\n",
       "      <td>1</td>\n",
       "      <td>EWR</td>\n",
       "      <td>Newark Airport</td>\n",
       "      <td>EWR</td>\n",
       "    </tr>\n",
       "    <tr>\n",
       "      <th>1</th>\n",
       "      <td>2</td>\n",
       "      <td>Queens</td>\n",
       "      <td>Jamaica Bay</td>\n",
       "      <td>Boro Zone</td>\n",
       "    </tr>\n",
       "    <tr>\n",
       "      <th>2</th>\n",
       "      <td>3</td>\n",
       "      <td>Bronx</td>\n",
       "      <td>Allerton/Pelham Gardens</td>\n",
       "      <td>Boro Zone</td>\n",
       "    </tr>\n",
       "    <tr>\n",
       "      <th>3</th>\n",
       "      <td>4</td>\n",
       "      <td>Manhattan</td>\n",
       "      <td>Alphabet City</td>\n",
       "      <td>Yellow Zone</td>\n",
       "    </tr>\n",
       "    <tr>\n",
       "      <th>4</th>\n",
       "      <td>5</td>\n",
       "      <td>Staten Island</td>\n",
       "      <td>Arden Heights</td>\n",
       "      <td>Boro Zone</td>\n",
       "    </tr>\n",
       "  </tbody>\n",
       "</table>\n",
       "</div>"
      ],
      "text/plain": [
       "   LocationID        Borough                     Zone service_zone\n",
       "0           1            EWR           Newark Airport          EWR\n",
       "1           2         Queens              Jamaica Bay    Boro Zone\n",
       "2           3          Bronx  Allerton/Pelham Gardens    Boro Zone\n",
       "3           4      Manhattan            Alphabet City  Yellow Zone\n",
       "4           5  Staten Island            Arden Heights    Boro Zone"
      ]
     },
     "execution_count": 66,
     "metadata": {},
     "output_type": "execute_result"
    }
   ],
   "source": [
    "df_locations.head()"
   ]
  },
  {
   "cell_type": "code",
   "execution_count": 84,
   "id": "1dc51ca8",
   "metadata": {},
   "outputs": [
    {
     "name": "stdout",
     "output_type": "stream",
     "text": [
      "<class 'pandas.core.frame.DataFrame'>\n",
      "RangeIndex: 265 entries, 0 to 264\n",
      "Data columns (total 4 columns):\n",
      " #   Column        Non-Null Count  Dtype \n",
      "---  ------        --------------  ----- \n",
      " 0   LocationID    265 non-null    int64 \n",
      " 1   Borough       265 non-null    object\n",
      " 2   Zone          264 non-null    object\n",
      " 3   service_zone  263 non-null    object\n",
      "dtypes: int64(1), object(3)\n",
      "memory usage: 8.4+ KB\n"
     ]
    }
   ],
   "source": [
    "df_locations.info()"
   ]
  },
  {
   "cell_type": "markdown",
   "id": "dce3c7c6",
   "metadata": {},
   "source": [
    "top 5 pick up locations"
   ]
  },
  {
   "cell_type": "code",
   "execution_count": 89,
   "id": "14bc35de",
   "metadata": {},
   "outputs": [
    {
     "data": {
      "text/html": [
       "<div>\n",
       "<style scoped>\n",
       "    .dataframe tbody tr th:only-of-type {\n",
       "        vertical-align: middle;\n",
       "    }\n",
       "\n",
       "    .dataframe tbody tr th {\n",
       "        vertical-align: top;\n",
       "    }\n",
       "\n",
       "    .dataframe thead th {\n",
       "        text-align: right;\n",
       "    }\n",
       "</style>\n",
       "<table border=\"1\" class=\"dataframe\">\n",
       "  <thead>\n",
       "    <tr style=\"text-align: right;\">\n",
       "      <th></th>\n",
       "      <th>LocationID</th>\n",
       "      <th>Borough</th>\n",
       "      <th>Zone</th>\n",
       "      <th>service_zone</th>\n",
       "    </tr>\n",
       "  </thead>\n",
       "  <tbody>\n",
       "    <tr>\n",
       "      <th>6</th>\n",
       "      <td>7</td>\n",
       "      <td>Queens</td>\n",
       "      <td>Astoria</td>\n",
       "      <td>Boro Zone</td>\n",
       "    </tr>\n",
       "    <tr>\n",
       "      <th>40</th>\n",
       "      <td>41</td>\n",
       "      <td>Manhattan</td>\n",
       "      <td>Central Harlem</td>\n",
       "      <td>Boro Zone</td>\n",
       "    </tr>\n",
       "    <tr>\n",
       "      <th>73</th>\n",
       "      <td>74</td>\n",
       "      <td>Manhattan</td>\n",
       "      <td>East Harlem North</td>\n",
       "      <td>Boro Zone</td>\n",
       "    </tr>\n",
       "    <tr>\n",
       "      <th>74</th>\n",
       "      <td>75</td>\n",
       "      <td>Manhattan</td>\n",
       "      <td>East Harlem South</td>\n",
       "      <td>Boro Zone</td>\n",
       "    </tr>\n",
       "    <tr>\n",
       "      <th>81</th>\n",
       "      <td>82</td>\n",
       "      <td>Queens</td>\n",
       "      <td>Elmhurst</td>\n",
       "      <td>Boro Zone</td>\n",
       "    </tr>\n",
       "  </tbody>\n",
       "</table>\n",
       "</div>"
      ],
      "text/plain": [
       "    LocationID    Borough               Zone service_zone\n",
       "6            7     Queens            Astoria    Boro Zone\n",
       "40          41  Manhattan     Central Harlem    Boro Zone\n",
       "73          74  Manhattan  East Harlem North    Boro Zone\n",
       "74          75  Manhattan  East Harlem South    Boro Zone\n",
       "81          82     Queens           Elmhurst    Boro Zone"
      ]
     },
     "execution_count": 89,
     "metadata": {},
     "output_type": "execute_result"
    }
   ],
   "source": [
    "df_locations[df_locations['LocationID'].isin(top_5_pickup_locations['LocationID'])]"
   ]
  },
  {
   "cell_type": "markdown",
   "id": "57ce6d48",
   "metadata": {},
   "source": [
    "drop locations"
   ]
  },
  {
   "cell_type": "code",
   "execution_count": 90,
   "id": "b84c26f2",
   "metadata": {},
   "outputs": [],
   "source": [
    "df_drop_locations=df.groupby('DOLocationID')['DOLocationID'].count().reset_index(name='Count of Drops')"
   ]
  },
  {
   "cell_type": "code",
   "execution_count": 91,
   "id": "4bdf6b18",
   "metadata": {},
   "outputs": [],
   "source": [
    "df_drop_locations=df_drop_locations.sort_values(by='Count of Drops',ascending=False)"
   ]
  },
  {
   "cell_type": "code",
   "execution_count": 92,
   "id": "07eceb6f",
   "metadata": {},
   "outputs": [],
   "source": [
    "df_drop_locations['DOLocationID']=df_drop_locations['DOLocationID'].astype('int')"
   ]
  },
  {
   "cell_type": "code",
   "execution_count": 98,
   "id": "c706195b",
   "metadata": {},
   "outputs": [],
   "source": [
    "df_top_5_drop_locations=df_drop_locations['DOLocationID'].head(5).reset_index()"
   ]
  },
  {
   "cell_type": "code",
   "execution_count": 99,
   "id": "e9be6f08",
   "metadata": {},
   "outputs": [
    {
     "data": {
      "text/html": [
       "<div>\n",
       "<style scoped>\n",
       "    .dataframe tbody tr th:only-of-type {\n",
       "        vertical-align: middle;\n",
       "    }\n",
       "\n",
       "    .dataframe tbody tr th {\n",
       "        vertical-align: top;\n",
       "    }\n",
       "\n",
       "    .dataframe thead th {\n",
       "        text-align: right;\n",
       "    }\n",
       "</style>\n",
       "<table border=\"1\" class=\"dataframe\">\n",
       "  <thead>\n",
       "    <tr style=\"text-align: right;\">\n",
       "      <th></th>\n",
       "      <th>index</th>\n",
       "      <th>DOLocationID</th>\n",
       "    </tr>\n",
       "  </thead>\n",
       "  <tbody>\n",
       "    <tr>\n",
       "      <th>0</th>\n",
       "      <td>235</td>\n",
       "      <td>74</td>\n",
       "    </tr>\n",
       "    <tr>\n",
       "      <th>1</th>\n",
       "      <td>200</td>\n",
       "      <td>42</td>\n",
       "    </tr>\n",
       "    <tr>\n",
       "      <th>2</th>\n",
       "      <td>199</td>\n",
       "      <td>41</td>\n",
       "    </tr>\n",
       "    <tr>\n",
       "      <th>3</th>\n",
       "      <td>230</td>\n",
       "      <td>7</td>\n",
       "    </tr>\n",
       "    <tr>\n",
       "      <th>4</th>\n",
       "      <td>31</td>\n",
       "      <td>129</td>\n",
       "    </tr>\n",
       "  </tbody>\n",
       "</table>\n",
       "</div>"
      ],
      "text/plain": [
       "   index  DOLocationID\n",
       "0    235            74\n",
       "1    200            42\n",
       "2    199            41\n",
       "3    230             7\n",
       "4     31           129"
      ]
     },
     "execution_count": 99,
     "metadata": {},
     "output_type": "execute_result"
    }
   ],
   "source": [
    "df_top_5_drop_locations"
   ]
  },
  {
   "cell_type": "markdown",
   "id": "2fa79478",
   "metadata": {},
   "source": [
    "top 5 pick up locations"
   ]
  },
  {
   "cell_type": "code",
   "execution_count": 100,
   "id": "7109f534",
   "metadata": {},
   "outputs": [
    {
     "data": {
      "text/html": [
       "<div>\n",
       "<style scoped>\n",
       "    .dataframe tbody tr th:only-of-type {\n",
       "        vertical-align: middle;\n",
       "    }\n",
       "\n",
       "    .dataframe tbody tr th {\n",
       "        vertical-align: top;\n",
       "    }\n",
       "\n",
       "    .dataframe thead th {\n",
       "        text-align: right;\n",
       "    }\n",
       "</style>\n",
       "<table border=\"1\" class=\"dataframe\">\n",
       "  <thead>\n",
       "    <tr style=\"text-align: right;\">\n",
       "      <th></th>\n",
       "      <th>LocationID</th>\n",
       "      <th>Borough</th>\n",
       "      <th>Zone</th>\n",
       "      <th>service_zone</th>\n",
       "    </tr>\n",
       "  </thead>\n",
       "  <tbody>\n",
       "    <tr>\n",
       "      <th>6</th>\n",
       "      <td>7</td>\n",
       "      <td>Queens</td>\n",
       "      <td>Astoria</td>\n",
       "      <td>Boro Zone</td>\n",
       "    </tr>\n",
       "    <tr>\n",
       "      <th>40</th>\n",
       "      <td>41</td>\n",
       "      <td>Manhattan</td>\n",
       "      <td>Central Harlem</td>\n",
       "      <td>Boro Zone</td>\n",
       "    </tr>\n",
       "    <tr>\n",
       "      <th>41</th>\n",
       "      <td>42</td>\n",
       "      <td>Manhattan</td>\n",
       "      <td>Central Harlem North</td>\n",
       "      <td>Boro Zone</td>\n",
       "    </tr>\n",
       "    <tr>\n",
       "      <th>73</th>\n",
       "      <td>74</td>\n",
       "      <td>Manhattan</td>\n",
       "      <td>East Harlem North</td>\n",
       "      <td>Boro Zone</td>\n",
       "    </tr>\n",
       "    <tr>\n",
       "      <th>128</th>\n",
       "      <td>129</td>\n",
       "      <td>Queens</td>\n",
       "      <td>Jackson Heights</td>\n",
       "      <td>Boro Zone</td>\n",
       "    </tr>\n",
       "  </tbody>\n",
       "</table>\n",
       "</div>"
      ],
      "text/plain": [
       "     LocationID    Borough                  Zone service_zone\n",
       "6             7     Queens               Astoria    Boro Zone\n",
       "40           41  Manhattan        Central Harlem    Boro Zone\n",
       "41           42  Manhattan  Central Harlem North    Boro Zone\n",
       "73           74  Manhattan     East Harlem North    Boro Zone\n",
       "128         129     Queens       Jackson Heights    Boro Zone"
      ]
     },
     "execution_count": 100,
     "metadata": {},
     "output_type": "execute_result"
    }
   ],
   "source": [
    "df_locations[df_locations['LocationID'].isin(df_top_5_drop_locations['DOLocationID'])]"
   ]
  },
  {
   "cell_type": "markdown",
   "id": "d0fcd4d7",
   "metadata": {},
   "source": [
    "What is the average number of trips per week?"
   ]
  },
  {
   "cell_type": "code",
   "execution_count": 39,
   "id": "c4315f6a",
   "metadata": {},
   "outputs": [],
   "source": [
    "df['dayofweek']=df['lpep_pickup_datetime'].apply(lambda x:x.weekofyear)"
   ]
  },
  {
   "cell_type": "code",
   "execution_count": 40,
   "id": "204a4831",
   "metadata": {},
   "outputs": [],
   "source": [
    "df.rename(columns={'dayofweek':'weeknumber'},inplace=True)"
   ]
  },
  {
   "cell_type": "code",
   "execution_count": 41,
   "id": "b63e2b77",
   "metadata": {},
   "outputs": [],
   "source": [
    "df_trips_per_week=df.groupby('weeknumber')['weeknumber'].count()"
   ]
  },
  {
   "cell_type": "code",
   "execution_count": 42,
   "id": "2349ccaf",
   "metadata": {},
   "outputs": [
    {
     "data": {
      "text/plain": [
       "weeknumber\n",
       "1    613950\n",
       "2    703792\n",
       "3    658155\n",
       "4    678948\n",
       "5    705081\n",
       "Name: weeknumber, dtype: int64"
      ]
     },
     "execution_count": 42,
     "metadata": {},
     "output_type": "execute_result"
    }
   ],
   "source": [
    "df_trips_per_week.head()"
   ]
  },
  {
   "cell_type": "code",
   "execution_count": 44,
   "id": "4144bd13",
   "metadata": {},
   "outputs": [
    {
     "data": {
      "text/plain": [
       "534454.1698113207"
      ]
     },
     "execution_count": 44,
     "metadata": {},
     "output_type": "execute_result"
    }
   ],
   "source": [
    "df_trips_per_week.mean()"
   ]
  },
  {
   "cell_type": "code",
   "execution_count": null,
   "id": "5df99073",
   "metadata": {},
   "outputs": [],
   "source": []
  }
 ],
 "metadata": {
  "kernelspec": {
   "display_name": "Python 3 (ipykernel)",
   "language": "python",
   "name": "python3"
  },
  "language_info": {
   "codemirror_mode": {
    "name": "ipython",
    "version": 3
   },
   "file_extension": ".py",
   "mimetype": "text/x-python",
   "name": "python",
   "nbconvert_exporter": "python",
   "pygments_lexer": "ipython3",
   "version": "3.9.7"
  }
 },
 "nbformat": 4,
 "nbformat_minor": 5
}
